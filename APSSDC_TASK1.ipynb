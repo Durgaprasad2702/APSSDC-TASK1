{
 "cells": [
  {
   "cell_type": "code",
   "execution_count": 1,
   "metadata": {},
   "outputs": [
    {
     "name": "stdout",
     "output_type": "stream",
     "text": [
      " Enter age: 22\n",
      " Eligible for vote \n"
     ]
    }
   ],
   "source": [
    "##program to check wheather the user eligible for vote or not\n",
    "\n",
    "a = int(input(\" Enter age: \"))\n",
    "\n",
    "if a >= 18 :\n",
    "    print(\" Eligible for vote \")\n",
    "else: \n",
    "    print(\" Not eligible for vote \")"
   ]
  },
  {
   "cell_type": "code",
   "execution_count": 2,
   "metadata": {},
   "outputs": [
    {
     "name": "stdout",
     "output_type": "stream",
     "text": [
      " Enter number 2\n",
      " Given number is positive \n"
     ]
    }
   ],
   "source": [
    "##program to check the give number is whether positive or negative\n",
    "\n",
    "a = int(input(\" Enter number \"))\n",
    "\n",
    "if a >= 0 :\n",
    "    print(\" Given number is positive \")\n",
    "else:\n",
    "    print(\" Given number is negative\")"
   ]
  },
  {
   "cell_type": "code",
   "execution_count": 3,
   "metadata": {},
   "outputs": [
    {
     "name": "stdout",
     "output_type": "stream",
     "text": [
      " Enter number: 5\n",
      "given number is odd\n"
     ]
    }
   ],
   "source": [
    "##program to check the given number is even or odd if it's even check which is divisible by 4 or not\n",
    "\n",
    "a = int(input(\" Enter number: \"))\n",
    "\n",
    "if (a % 2) ==0 :\n",
    "    if (a % 4) ==0:\n",
    "        print(\"given number is even and divisible by 4 \")\n",
    "    else:\n",
    "        print(\"given number is even and not divisible by 4 \")\n",
    "else:\n",
    "    print(\"given number is odd\")"
   ]
  },
  {
   "cell_type": "code",
   "execution_count": 7,
   "metadata": {},
   "outputs": [
    {
     "name": "stdout",
     "output_type": "stream",
     "text": [
      "Enter Marks Obtained in 5 Subjects: 10\n",
      "20\n",
      "30\n",
      "40\n",
      "50\n",
      "60\n",
      " Student is failed in the examination\n"
     ]
    }
   ],
   "source": [
    "###program to print student grade based on persentage like Distinction,pass or fail\n",
    "\n",
    "a = int(input(\"Enter Marks Obtained in 5 Subjects: \"))\n",
    "MAT = int(input())\n",
    "PHY = int(input())\n",
    "CHE = int(input())\n",
    "ENG = int(input())\n",
    "SANS = int(input())\n",
    "\n",
    "tot = MAT+PHY+CHE+ENG+SANS\n",
    "avg = tot/5\n",
    "\n",
    "if avg>=95 :\n",
    "    print(\"Student is passed in the examination in distinction level \")\n",
    "elif avg>=50:\n",
    "    print(\" Student is passed in the examination \")\n",
    "elif avg<=50:\n",
    "    print(\" Student is failed in the examination\")\n"
   ]
  },
  {
   "cell_type": "code",
   "execution_count": 8,
   "metadata": {},
   "outputs": [
    {
     "name": "stdout",
     "output_type": "stream",
     "text": [
      "Enter year here 2016\n",
      "2016 is a leap year\n"
     ]
    }
   ],
   "source": [
    "\n",
    "# program to check if year is a leap year or not\n",
    "\n",
    "a = int(input(\"Enter year here \"))\n",
    "\n",
    "if (a % 4) == 0:\n",
    "   if (a % 100) == 0:\n",
    "       if (a % 400) == 0:\n",
    "           print(\"{0} is a leap year\".format(a))\n",
    "       else:\n",
    "           print(\"{0} is not a leap year\".format(a))\n",
    "   else:\n",
    "       print(\"{0} is a leap year\".format(a))\n",
    "else:\n",
    "   print(\"{0} is not a leap year\".format(a))"
   ]
  },
  {
   "cell_type": "code",
   "execution_count": null,
   "metadata": {},
   "outputs": [],
   "source": []
  }
 ],
 "metadata": {
  "kernelspec": {
   "display_name": "Python 3",
   "language": "python",
   "name": "python3"
  },
  "language_info": {
   "codemirror_mode": {
    "name": "ipython",
    "version": 3
   },
   "file_extension": ".py",
   "mimetype": "text/x-python",
   "name": "python",
   "nbconvert_exporter": "python",
   "pygments_lexer": "ipython3",
   "version": "3.7.3"
  }
 },
 "nbformat": 4,
 "nbformat_minor": 2
}
